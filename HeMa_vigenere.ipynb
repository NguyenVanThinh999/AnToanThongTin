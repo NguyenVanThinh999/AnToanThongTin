{
  "nbformat": 4,
  "nbformat_minor": 0,
  "metadata": {
    "colab": {
      "provenance": []
    },
    "kernelspec": {
      "name": "python3",
      "display_name": "Python 3"
    },
    "language_info": {
      "name": "python"
    }
  },
  "cells": [
    {
      "cell_type": "markdown",
      "source": [
        "hệ mã vigenere\n",
        "\n",
        "mã hoá vigenere"
      ],
      "metadata": {
        "id": "XM-8sVhIhIFn"
      }
    },
    {
      "cell_type": "code",
      "source": [
        "K = \"deceptive\"\n",
        "P = \"wearediscoveredsaveyourself\"\n",
        "def mahoa_vigenere(K,P):\n",
        "  if(len(K) < len(P)):\n",
        "    Z_26 = \"ABCDEFGHIJKLMNOPQRSTUVWXYZ\"\n",
        "   \n",
        "    KK = K.upper()\n",
        "    P = P.upper()\n",
        "    count = len(P) - len(K)\n",
        "    count_k = 0\n",
        "    for i in range(0,count):\n",
        "      if(count_k == len(K)):\n",
        "        count_k = 0\n",
        "      KK += KK[count_k]\n",
        "      count_k = count_k + 1\n",
        "    \n",
        "    C = \"\"\n",
        "    for i in range(0,len(P)):\n",
        "      index = (ord(KK[i]) + ord(P[i]))%26\n",
        "      for j in range(0,len(Z_26)):\n",
        "        if(index == j):\n",
        "          C += Z_26[j]\n",
        "    \n",
        "    return C\n",
        " \n",
        "mahoa_vigenere(K,P)"
      ],
      "metadata": {
        "colab": {
          "base_uri": "https://localhost:8080/",
          "height": 35
        },
        "id": "zO4tmH4WhJug",
        "outputId": "ed00b744-7d8d-443c-8f40-5b8e4946950c"
      },
      "execution_count": 1,
      "outputs": [
        {
          "output_type": "execute_result",
          "data": {
            "text/plain": [
              "'ZICVTWQNGRZGVTWAVZHCQYGLMGJ'"
            ],
            "application/vnd.google.colaboratory.intrinsic+json": {
              "type": "string"
            }
          },
          "metadata": {},
          "execution_count": 1
        }
      ]
    },
    {
      "cell_type": "markdown",
      "source": [
        "GIẢI MÃ VIGENERE"
      ],
      "metadata": {
        "id": "qPbrsRSLhOJw"
      }
    },
    {
      "cell_type": "code",
      "source": [
        "C = mahoa_vigenere(K,P)\n",
        "def giaima_vigenere(K,C):\n",
        "  if(len(K) < len(C)):\n",
        "    Z_26 = \"ABCDEFGHIJKLMNOPQRSTUVWXYZ\"\n",
        "    \n",
        "    KK = K.upper()\n",
        "    count = len(C) - len(K)\n",
        "    count_k = 0\n",
        "    for i in range(0,count):\n",
        "      if(count_k == len(K)):\n",
        "        count_k = 0\n",
        "      KK += KK[count_k]\n",
        "      count_k = count_k + 1\n",
        "    \n",
        "    P = \"\"\n",
        "    # print(KK)\n",
        "    # print(C)\n",
        "    for i in range(0,len(C)):\n",
        "      index = (ord(C[i]) - ord(KK[i]))%26\n",
        "      for j in range(0,len(Z_26)):\n",
        "        if(index == j):\n",
        "          P += Z_26[j]\n",
        "    P = P.lower()\n",
        "    return P\n",
        "giaima_vigenere(K,C)"
      ],
      "metadata": {
        "colab": {
          "base_uri": "https://localhost:8080/",
          "height": 35
        },
        "id": "IC-s6pFHhOrQ",
        "outputId": "6260b8d8-0845-496b-8e29-dc42c8e2c842"
      },
      "execution_count": 3,
      "outputs": [
        {
          "output_type": "execute_result",
          "data": {
            "text/plain": [
              "'wearediscoveredsaveyourself'"
            ],
            "application/vnd.google.colaboratory.intrinsic+json": {
              "type": "string"
            }
          },
          "metadata": {},
          "execution_count": 3
        }
      ]
    }
  ]
}