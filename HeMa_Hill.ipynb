{
  "nbformat": 4,
  "nbformat_minor": 0,
  "metadata": {
    "colab": {
      "provenance": []
    },
    "kernelspec": {
      "name": "python3",
      "display_name": "Python 3"
    },
    "language_info": {
      "name": "python"
    }
  },
  "cells": [
    {
      "cell_type": "markdown",
      "source": [
        "Hệ Mã Hill\n",
        "\n",
        "Mã Hoá Hill"
      ],
      "metadata": {
        "id": "GjeKe3bYgUuY"
      }
    },
    {
      "cell_type": "code",
      "source": [
        "import numpy as np"
      ],
      "metadata": {
        "id": "vzGpiglbgVoZ"
      },
      "execution_count": 1,
      "outputs": []
    },
    {
      "cell_type": "code",
      "source": [
        "K = np.array([[1, 2 ,3],[0, 1, 4],[0, 0, -1]])\n",
        "# print(np.linalg.inv(A))\n",
        "P = \"paymoremoney\"\n",
        "# print(P)\n",
        "def mahoa_hill(K,P):\n",
        "  Z_26 = \"ABCDEFGHIJKLMNOPQRSTUVWXYZ\"\n",
        "  P = P.upper()\n",
        "  m = len(K)\n",
        "  PP = []\n",
        "  PP.append([])\n",
        "  count = 0;\n",
        "  d = 0\n",
        "  for i in range(0,len(P)):\n",
        "    for j in range(0,len(Z_26)):\n",
        "      if(P[i] == Z_26[j]):\n",
        "        PP[d].append(j)\n",
        "    count = count + 1\n",
        "    if(count == 3 and i < len(P)-1):\n",
        "      PP.append([])\n",
        "      d = d + 1\n",
        "      count = 0 \n",
        "  # print(PP)\n",
        "\n",
        "  C = []\n",
        "  for i in range(0,len(PP)):\n",
        "    P_array = []\n",
        "    P_array.append([])\n",
        "    P_array[0].extend(PP[i])\n",
        "    P_array = np.array(P_array)\n",
        "    P_array = P_array.T\n",
        "     \n",
        "    C.append(((K.dot(P_array))%26).T)\n",
        "  CC = []\n",
        "  for i in range(0,len(C)):\n",
        "    CC.append([])\n",
        "    for j in range(0,len(C[i])):\n",
        "      CC[i].extend(C[i][j])\n",
        "  # print(CC)\n",
        "  for i in range(0,len(CC)):\n",
        "    for j in range(0,len(CC[i])):\n",
        "      for k in range(0,len(Z_26)):\n",
        "        if(CC[i][j] == k):\n",
        "          CC[i][j] = Z_26[k]\n",
        "  return CC \n",
        " \n",
        "mahoa_hill(K,P)"
      ],
      "metadata": {
        "colab": {
          "base_uri": "https://localhost:8080/"
        },
        "id": "ikUbH-cigl3I",
        "outputId": "e8ef5c74-52e5-4f9f-ff17-15e14c64cadb"
      },
      "execution_count": 2,
      "outputs": [
        {
          "output_type": "execute_result",
          "data": {
            "text/plain": [
              "[['J', 'S', 'C'], ['N', 'E', 'J'], ['S', 'Q', 'M'], ['P', 'W', 'C']]"
            ]
          },
          "metadata": {},
          "execution_count": 2
        }
      ]
    },
    {
      "cell_type": "markdown",
      "source": [
        "Giải MÃ Hill"
      ],
      "metadata": {
        "id": "rsemRv57goWI"
      }
    },
    {
      "cell_type": "code",
      "source": [
        "def detMaTran(A):\n",
        " \n",
        "  det = 0\n",
        "  if(len(A)==2):\n",
        "    \n",
        "    det = A[0][0]*A[1][1] - A[0][1]*A[1][0]\n",
        "    \n",
        "  else:\n",
        "    \n",
        "    pp_A = []\n",
        "    for i in range(0,1):\n",
        "      for j in range(0,len(A[i])):\n",
        "        pp_A = []\n",
        "        d = 0\n",
        "        for m in range(1,len(A)):\n",
        "          if(m != 0):\n",
        "            pp_A.append([])\n",
        "\n",
        "            for n in range(0,len(A[m])):\n",
        "\n",
        "              if(n != j):\n",
        "                pp_A[d].append(A[m][n])   \n",
        "                \n",
        "                \n",
        "            d = d + 1\n",
        "        detpp_A = detMaTran(pp_A)\n",
        "        det += detpp_A * A[i][j] * ((-1)**(i+j))\n",
        "\n",
        "  return det\n",
        "\n",
        "# K = np.array([[1, 2 ,3],[0, 1, 4],[0, 0, -1]])\n",
        "# detMaTran(K)"
      ],
      "metadata": {
        "id": "71mQ8kIbgo44"
      },
      "execution_count": 3,
      "outputs": []
    },
    {
      "cell_type": "code",
      "source": [
        "def MaTranNghichDao(A):\n",
        "   \n",
        "  detA = detMaTran(A)\n",
        "  PA  = []\n",
        "  p_A = []\n",
        "  for i in range(0,len(A)):\n",
        "    p_A.append([])\n",
        "    for j in range(0,len(A)):\n",
        "      p_A[i].append(\"0\")\n",
        "\n",
        "  for i in range(0,len(A)):\n",
        "    for j in range(0,len(A)):\n",
        "      pp_A = []\n",
        "      d = 0\n",
        "      for m in range(0,len(A)):\n",
        "        \n",
        "        if(m != i):   \n",
        "          pp_A.append([])\n",
        "        \n",
        "          for n in range(0,len(A)):\n",
        "            \n",
        "            if(n != j):\n",
        "              \n",
        "              # charm = str(m)\n",
        "              # charn = str(n)\n",
        "              # charA = str(A[m][n])\n",
        "              # print(\"A[\" +charm+ \"]\" + \"[\" +charn+ \"] = \" + charA)\n",
        "              pp_A[d].append((A[m][n]))\n",
        "            \n",
        "          d = d + 1\n",
        "       \n",
        "      detppp_A = 0\n",
        "      detppp_A = detMaTran(pp_A)\n",
        "      detppp_A = ((detppp_A * (-1)**(i+j))/detA)\n",
        "      # detppp_A = int(detppp_A * detA)\n",
        "      \n",
        "     \n",
        "      p_A[i][j] = detppp_A\n",
        "\n",
        "      PA = np.array(p_A)\n",
        "      \n",
        "      PA = PA.T\n",
        "     \n",
        "      # print(PA)\n",
        "      # print(pp_A)\n",
        "      # print(detppp_A)\n",
        "      \n",
        "      \n",
        "  return PA\n",
        "      \n",
        "MaTranNghichDao(K)\n",
        "print(K.dot(MaTranNghichDao(K)))"
      ],
      "metadata": {
        "colab": {
          "base_uri": "https://localhost:8080/"
        },
        "id": "sxHZR2E-gv3o",
        "outputId": "ad90600c-64d4-485a-e7fa-53d65a42377b"
      },
      "execution_count": 4,
      "outputs": [
        {
          "output_type": "stream",
          "name": "stdout",
          "text": [
            "[[1. 0. 0.]\n",
            " [0. 1. 0.]\n",
            " [0. 0. 1.]]\n"
          ]
        }
      ]
    },
    {
      "cell_type": "code",
      "source": [
        "C = mahoa_hill(K,P)\n",
        "def giaima_hill(K,C):\n",
        "  \n",
        "  Z_26 = \"ABCDEFGHIJKLMNOPQRSTUVWXYZ\"\n",
        "  ZZ_26 = []\n",
        "  for i in range(0,len(Z_26)):\n",
        "    ZZ_26.append(Z_26[i])\n",
        "  K_1 = MaTranNghichDao(K)\n",
        "  # print(K_1)\n",
        "  CC = []\n",
        "  for i in range(0,len(C)):\n",
        "    CC.extend(C[i])\n",
        "  # print(CC)\n",
        "\n",
        "  for i in range(0,len(CC)):\n",
        "    for m in range(0,len(ZZ_26)):\n",
        "      if(CC[i] == ZZ_26[m]):\n",
        "        CC[i] = m\n",
        "  # print(CC)\n",
        "  CCC = []\n",
        "  CCC.append([])\n",
        "  count = 0\n",
        "  d = 0\n",
        "  for i in range(0,len(CC)):  \n",
        "    CCC[d].append(CC[i])\n",
        "    count = count + 1\n",
        "    if(count == len(K) and i < len(CC) -1 ):\n",
        "      CCC.append([])\n",
        "      d = d + 1\n",
        "      count = 0\n",
        "  # print(CCC)\n",
        "  B = []\n",
        "  for i in range(0,len(CCC)):\n",
        "    CCC_array = []\n",
        "    CCC_array.append([])\n",
        "    CCC_array[0].extend(CCC[i])\n",
        "    CCC_array = np.array(CCC_array)\n",
        "    CCC_array = CCC_array.T\n",
        "    \n",
        "    B.append(((K_1.dot(CCC_array))%26).T)\n",
        "  # print(B)\n",
        "  BB = []\n",
        "  for i in range(0,len(B)):\n",
        "    BB.append([])\n",
        "    for j in range(0,len(B[i])):\n",
        "      BB[i].extend(B[i][j])\n",
        "  # print(BB)\n",
        "  chuoiBB = \"\"\n",
        "  for i in range(0,len(BB)):\n",
        "    for j in range(0,len(BB[i])):\n",
        "      for k in range(0,len(Z_26)):\n",
        "        if(BB[i][j] == k):\n",
        "          BB[i][j] = Z_26[k]\n",
        "          chuoiBB += Z_26[k]\n",
        "  chuoiBB = chuoiBB.lower()\n",
        "  \n",
        "  \n",
        "  return chuoiBB\n",
        "\n",
        "giaima_hill(K,C)"
      ],
      "metadata": {
        "colab": {
          "base_uri": "https://localhost:8080/",
          "height": 35
        },
        "id": "NPwwkPMug70A",
        "outputId": "2d8af296-b032-4b1c-cd7e-17e89a56d2c9"
      },
      "execution_count": 5,
      "outputs": [
        {
          "output_type": "execute_result",
          "data": {
            "text/plain": [
              "'paymoremoney'"
            ],
            "application/vnd.google.colaboratory.intrinsic+json": {
              "type": "string"
            }
          },
          "metadata": {},
          "execution_count": 5
        }
      ]
    }
  ]
}