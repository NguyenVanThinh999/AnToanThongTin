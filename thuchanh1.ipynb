{
  "nbformat": 4,
  "nbformat_minor": 0,
  "metadata": {
    "colab": {
      "provenance": [],
      "collapsed_sections": []
    },
    "kernelspec": {
      "name": "python3",
      "display_name": "Python 3"
    },
    "language_info": {
      "name": "python"
    }
  },
  "cells": [
    {
      "cell_type": "markdown",
      "source": [
        "MÃ Hóa Caesar"
      ],
      "metadata": {
        "id": "pKLnxjzzilzZ"
      }
    },
    {
      "cell_type": "code",
      "source": [
        "def encrypt(plaintext, k):\n",
        "    result = \"\"\n",
        "    #duyệt chuỗichuỗi\n",
        "    for i in range(len(plaintext)):\n",
        "        char = plaintext[i]\n",
        "         #mã hóa các ký tự viết hoa\n",
        "        if(char.isupper()):\n",
        "            result += chr((ord(char) + k-65) % 26 +65)\n",
        "        #mã hóa các ký tự viết thường\n",
        "        else:\n",
        "            result += chr((ord(char) + k - 97) % 26 + 97)\n",
        "    return result"
      ],
      "metadata": {
        "id": "5QGHuZjRipI2"
      },
      "execution_count": null,
      "outputs": []
    },
    {
      "cell_type": "code",
      "source": [
        "plaintext = \"wemeettomorrow\"\n",
        "k =12\n",
        "ciphertext = encrypt(plaintext,k);\n",
        "print(\"Ciphertext: \" + ciphertext );"
      ],
      "metadata": {
        "colab": {
          "base_uri": "https://localhost:8080/"
        },
        "id": "AyItyDceqeR3",
        "outputId": "8fa835e4-3ac3-4b2c-fa2b-2228d8162a2e"
      },
      "execution_count": null,
      "outputs": [
        {
          "output_type": "stream",
          "name": "stdout",
          "text": [
            "Ciphertext: iqyqqffayaddai\n"
          ]
        }
      ]
    },
    {
      "cell_type": "markdown",
      "source": [
        "GIẢI MÃ Caesar"
      ],
      "metadata": {
        "id": "CTvTNVnriths"
      }
    },
    {
      "cell_type": "code",
      "source": [
        "def decrypt(ciphertext,k):\n",
        "    result = \"\"\n",
        "\n",
        "    for i in range(len(ciphertext)):\n",
        "        char = ciphertext[i]\n",
        "          # giải mã các ký tự viết hoa\n",
        "        if(char.isupper()):\n",
        "            result += chr((ord(char) - k-65) % 26 +65)\n",
        "      # giải mã các ký tự viết thường\n",
        "        else:\n",
        "            result += chr((ord(char) - k - 97) % 26 + 97)\n",
        "    return result\n",
        "\n",
        "k=12\n",
        "print(\"Plaintext: \" + decrypt(ciphertext,k));"
      ],
      "metadata": {
        "id": "pMzgVJYcizFt",
        "colab": {
          "base_uri": "https://localhost:8080/"
        },
        "outputId": "c0bdbd44-9e8b-4e97-9342-f75a156b36eb"
      },
      "execution_count": null,
      "outputs": [
        {
          "output_type": "stream",
          "name": "stdout",
          "text": [
            "Plaintext: wemeettomorrow\n"
          ]
        }
      ]
    },
    {
      "cell_type": "markdown",
      "source": [
        "Tấn Công Hệ mã Caesar"
      ],
      "metadata": {
        "id": "aCw04fjpjAkh"
      }
    },
    {
      "cell_type": "code",
      "source": [
        "ciphertext = input('Type ciphertext:')\n",
        "for k in range(0,26):\n",
        "    plaintext = decrypt(ciphertext,k)\n",
        "    print(\"For key = \", k, \"plaintext=\"+plaintext.lower())\n",
        "#K=24 welcometophenikaa"
      ],
      "metadata": {
        "id": "8Gi5Rvgri1bM",
        "colab": {
          "base_uri": "https://localhost:8080/"
        },
        "outputId": "61afb9aa-4f87-468d-f923-cab4497b5526"
      },
      "execution_count": null,
      "outputs": [
        {
          "output_type": "stream",
          "name": "stdout",
          "text": [
            "Type ciphertext:tomoruiyghjk\n",
            "For key =  0 plaintext=tomoruiyghjk\n",
            "For key =  1 plaintext=snlnqthxfgij\n",
            "For key =  2 plaintext=rmkmpsgwefhi\n",
            "For key =  3 plaintext=qljlorfvdegh\n",
            "For key =  4 plaintext=pkiknqeucdfg\n",
            "For key =  5 plaintext=ojhjmpdtbcef\n",
            "For key =  6 plaintext=nigilocsabde\n",
            "For key =  7 plaintext=mhfhknbrzacd\n",
            "For key =  8 plaintext=lgegjmaqyzbc\n",
            "For key =  9 plaintext=kfdfilzpxyab\n",
            "For key =  10 plaintext=jecehkyowxza\n",
            "For key =  11 plaintext=idbdgjxnvwyz\n",
            "For key =  12 plaintext=hcacfiwmuvxy\n",
            "For key =  13 plaintext=gbzbehvltuwx\n",
            "For key =  14 plaintext=fayadgukstvw\n",
            "For key =  15 plaintext=ezxzcftjrsuv\n",
            "For key =  16 plaintext=dywybesiqrtu\n",
            "For key =  17 plaintext=cxvxadrhpqst\n",
            "For key =  18 plaintext=bwuwzcqgoprs\n",
            "For key =  19 plaintext=avtvybpfnoqr\n",
            "For key =  20 plaintext=zusuxaoemnpq\n",
            "For key =  21 plaintext=ytrtwzndlmop\n",
            "For key =  22 plaintext=xsqsvymcklno\n",
            "For key =  23 plaintext=wrpruxlbjkmn\n",
            "For key =  24 plaintext=vqoqtwkaijlm\n",
            "For key =  25 plaintext=upnpsvjzhikl\n"
          ]
        }
      ]
    },
    {
      "cell_type": "markdown",
      "source": [
        "HỆ MÃ Playfair\n",
        "\n",
        "mã hóa playfai"
      ],
      "metadata": {
        "id": "pX-hY1-_jGpr"
      }
    },
    {
      "cell_type": "code",
      "source": [
        "\n",
        "playtext = \"HELLOONEANDALL\"\n",
        "K = \"THEDIEIS\";\n",
        "def mahoa_playfair(K,playtext):\n",
        "  #LỌC RA CÁC KÝ TỰ KHÁC NHAU TRONG KHOÁ(k)\n",
        "  k_mang = [];\n",
        "  k_mang.append(K[0])\n",
        "  i=1\n",
        "  for x in range(1,len(K)):\n",
        "    g = 0;\n",
        "    d = 0;\n",
        "    if(K[x]=='I' or K[x]=='J'):\n",
        "      g = 1;\n",
        "    for y in range(0,x):\n",
        "      _XY = 0;\n",
        "      if(K[y]=='I' or K[y]=='J'):\n",
        "        _XY = 1;\n",
        "      if(g == 1):\n",
        "        if(_XY == 1):\n",
        "          d=1\n",
        "      else:\n",
        "        if(K[x]==K[y]):\n",
        "          d=1;\n",
        "\n",
        "    if(d==0):\n",
        "      k_mang.append(K[x])\n",
        "    \n",
        "  # print(k_mang);\n",
        "  ky_tu = \"ABCDEFGHIJKLMNOPQRSTUVWXYZ\"\n",
        "  _ky_tu = []\n",
        "  for i in range(0,len(ky_tu)):\n",
        "    _IJ=0\n",
        "    if(ky_tu[i]=='I' or ky_tu[i]=='J'):\n",
        "      _IJ=1\n",
        "    d = 0;\n",
        "    for j in range(0,len(k_mang)):\n",
        "      IJ=0\n",
        "      if(k_mang[j]=='I' or k_mang[j]=='J'):\n",
        "          IJ = 1\n",
        "      if(_IJ == 1):\n",
        "        if(IJ==1):\n",
        "          d=1\n",
        "          i = i + 1;\n",
        "      else:\n",
        "        if(ky_tu[i]==k_mang[j]):\n",
        "          d=1;\n",
        "  \n",
        "    if(d==0):\n",
        "      _ky_tu.append(ky_tu[i])\n",
        "  # print(_ky_tu)\n",
        "  Ma_Tran = []\n",
        "  for i in range(0,5):\n",
        "    Ma_Tran.append([])\n",
        "  \n",
        "  count = len(k_mang)\n",
        "  _j = 0;\n",
        "  m = 0;\n",
        "  n = 0;\n",
        "  for i in range(0,len(Ma_Tran)):\n",
        "    if(count > 0):\n",
        "      for j in range(0,5):\n",
        "        if(count > 0):\n",
        "          Ma_Tran[i].append(k_mang[_j])\n",
        "          count = count - 1\n",
        "          _j = _j + 1\n",
        "          \n",
        "          n = j\n",
        "          m = i\n",
        "  # print(Ma_Tran)\n",
        "  # print(m)\n",
        "  # print(n)\n",
        "  if( n == 4):\n",
        "    m = m + 1\n",
        "    n = 0\n",
        "  else:\n",
        "    n = n + 1\n",
        "  p = len(_ky_tu)\n",
        "  _p = 0\n",
        "  for i in range(m,len(Ma_Tran)):\n",
        "    if(p > 0):\n",
        "      for j in range(n,5):\n",
        "        if(p > 0):\n",
        "          Ma_Tran[i].append(_ky_tu[_p])\n",
        "          p = p - 1\n",
        "          _p = _p + 1\n",
        "      n = 0    \n",
        "  # print(Ma_Tran)\n",
        "\n",
        "  _playtext = []\n",
        "  _playtext.extend(playtext)\n",
        "  #print(_playtext)\n",
        "  __playtext = []\n",
        "  count = len(_playtext)\n",
        "  ii = 0\n",
        "  while(ii < count - 1 ):\n",
        "    if(_playtext[ii] == _playtext[ii + 1]):\n",
        "      __playtext.append([_playtext[ii],'X'])\n",
        "    else:\n",
        "      if(_playtext[ii] != _playtext[ii + 1]):\n",
        "        __playtext.append([_playtext[ii],_playtext[ii + 1]])\n",
        "        ii = ii + 1;\n",
        "    \n",
        "    ii = ii + 1\n",
        "    if(count - ii == 1):\n",
        "      __playtext.append([_playtext[ii],'X'])\n",
        "\n",
        "\n",
        "  # print(__playtext)\n",
        "  C = []\n",
        "  mm_0 = 0\n",
        "  nn_0 = 0\n",
        "  mm_1 = 0\n",
        "  nn_1 = 0\n",
        "  d0 = 0\n",
        "  d1 = 0\n",
        "  for i in range(0,len(__playtext)):\n",
        "    for m in range(0,len(Ma_Tran)):\n",
        "      for n in range(0,len(Ma_Tran[m])):\n",
        "        if(__playtext[i][0] == Ma_Tran[m][n]):\n",
        "          mm_0 = m\n",
        "          nn_0 = n\n",
        "          d0 = 1\n",
        "        if(__playtext[i][1] == Ma_Tran[m][n]):\n",
        "          mm_1 = m\n",
        "          nn_1 = n\n",
        "          d1 = 1\n",
        "        if(d0 == 1 and d1 == 1):\n",
        "          d0 = 0\n",
        "          d1 = 0\n",
        "          if(mm_0 == mm_1):\n",
        "            if(nn_0 == 4 or nn_1 == 4):\n",
        "              if(nn_0 == 4):\n",
        "                nn_0 = 0\n",
        "                C.append([Ma_Tran[mm_0][nn_0],Ma_Tran[mm_1][nn_1 + 1]])\n",
        "              else:\n",
        "                nn_1 = 0\n",
        "                C.append([Ma_Tran[mm_0][nn_0 + 1],Ma_Tran[mm_1][nn_1]])\n",
        "              \n",
        "            else:\n",
        "              C.append([Ma_Tran[mm_0][nn_0 + 1],Ma_Tran[mm_1][nn_1 + 1]])\n",
        "          elif(nn_0 == nn_1):\n",
        "            if(mm_0 == 4 or mm_1 == 4):\n",
        "              if(mm_0 == 4):\n",
        "                mm_0 = 0\n",
        "                C.append([Ma_Tran[mm_0][nn_0],Ma_Tran[mm_1 + 1][nn_1]])\n",
        "              else:\n",
        "                mm_1 = 0\n",
        "                C.append([Ma_Tran[mm_0 + 1][nn_0],Ma_Tran[mm_1][nn_1]])\n",
        "              \n",
        "            else:\n",
        "              C.append([Ma_Tran[mm_0 + 1][nn_0],Ma_Tran[mm_1 + 1][nn_1]])\n",
        "          else:\n",
        "            C.append([Ma_Tran[mm_0][nn_1],Ma_Tran[mm_1][nn_0]])\n",
        "\n",
        "  return C       \n",
        "  \n",
        "mahoa_playfair(K,playtext)"
      ],
      "metadata": {
        "id": "-URXXtkqjHHK",
        "colab": {
          "base_uri": "https://localhost:8080/"
        },
        "outputId": "474db444-4434-48f7-ab9c-5595a0379970"
      },
      "execution_count": null,
      "outputs": [
        {
          "output_type": "execute_result",
          "data": {
            "text/plain": [
              "[['E', 'D'],\n",
              " ['Q', 'E'],\n",
              " ['G', 'Q'],\n",
              " ['U', 'G'],\n",
              " ['H', 'B'],\n",
              " ['M', 'I'],\n",
              " ['B', 'K'],\n",
              " ['Q', 'E']]"
            ]
          },
          "metadata": {},
          "execution_count": 45
        }
      ]
    },
    {
      "cell_type": "markdown",
      "source": [
        "Giải Mã playfair"
      ],
      "metadata": {
        "id": "A2iGbKDR_bgM"
      }
    },
    {
      "cell_type": "code",
      "source": [
        "CC = []\n",
        "CC = (mahoa_playfair(K,playtext))\n",
        "def giaima_playfair(K, CC):\n",
        "  k_mang = [];\n",
        "  k_mang.append(K[0])\n",
        "  i=1\n",
        "  for x in range(1,len(K)):\n",
        "    g = 0;\n",
        "    d = 0;\n",
        "    if(K[x]=='I' or K[x]=='J'):\n",
        "      g = 1;\n",
        "    for y in range(0,x):\n",
        "      _XY = 0;\n",
        "      if(K[y]=='I' or K[y]=='J'):\n",
        "        _XY = 1;\n",
        "      if(g == 1):\n",
        "        if(_XY == 1):\n",
        "          d=1\n",
        "      else:\n",
        "        if(K[x]==K[y]):\n",
        "          d=1;\n",
        "\n",
        "    if(d==0):\n",
        "      k_mang.append(K[x])\n",
        "    \n",
        "  # print(k_mang);\n",
        "  ky_tu = \"ABCDEFGHIJKLMNOPQRSTUVWXYZ\"\n",
        "  _ky_tu = []\n",
        "  for i in range(0,len(ky_tu)):\n",
        "    _IJ=0\n",
        "    if(ky_tu[i]=='I' or ky_tu[i]=='J'):\n",
        "      _IJ=1\n",
        "    d = 0;\n",
        "    for j in range(0,len(k_mang)):\n",
        "      IJ=0\n",
        "      if(k_mang[j]=='I' or k_mang[j]=='J'):\n",
        "          IJ = 1\n",
        "      if(_IJ == 1):\n",
        "        if(IJ==1):\n",
        "          d=1\n",
        "          i = i + 1;\n",
        "      else:\n",
        "        if(ky_tu[i]==k_mang[j]):\n",
        "          d=1;\n",
        "  \n",
        "    if(d==0):\n",
        "      _ky_tu.append(ky_tu[i])\n",
        "  # print(_ky_tu)\n",
        "  Ma_Tran = []\n",
        "  for i in range(0,5):\n",
        "    Ma_Tran.append([])\n",
        "  \n",
        "  count = len(k_mang)\n",
        "  _j = 0;\n",
        "  m = 0;\n",
        "  n = 0;\n",
        "  for i in range(0,len(Ma_Tran)):\n",
        "    if(count > 0):\n",
        "      for j in range(0,5):\n",
        "        if(count > 0):\n",
        "          Ma_Tran[i].append(k_mang[_j])\n",
        "          count = count - 1\n",
        "          _j = _j + 1\n",
        "          \n",
        "          n = j\n",
        "          m = i\n",
        "  # print(Ma_Tran)\n",
        "  # print(m)\n",
        "  # print(n)\n",
        "  if( n == 4):\n",
        "    m = m + 1\n",
        "    n = 0\n",
        "  else:\n",
        "    n = n + 1\n",
        "  p = len(_ky_tu)\n",
        "  _p = 0\n",
        "  for i in range(m,len(Ma_Tran)):\n",
        "    if(p > 0):\n",
        "      for j in range(n,5):\n",
        "        if(p > 0):\n",
        "          Ma_Tran[i].append(_ky_tu[_p])\n",
        "          p = p - 1\n",
        "          _p = _p + 1\n",
        "      n = 0\n",
        "  # print(Ma_Tran)\n",
        "  P = []\n",
        "  mm_0 = 0\n",
        "  nn_0 = 0\n",
        "  mm_1 = 0\n",
        "  nn_1 = 0\n",
        "  d0 = 0\n",
        "  d1 = 0\n",
        "  for i in range(0,len(CC)):\n",
        "    for m in range(0,len(Ma_Tran)):\n",
        "      for n in range(0,len(Ma_Tran[m])):\n",
        "        if(CC[i][0] == Ma_Tran[m][n]):\n",
        "          mm_0 = m\n",
        "          nn_0 = n\n",
        "          d0 = 1\n",
        "        if(CC[i][1] == Ma_Tran[m][n]):\n",
        "          mm_1 = m\n",
        "          nn_1 = n\n",
        "          d1 = 1\n",
        "        if(d0 == 1 and d1 == 1):\n",
        "          d0 = 0\n",
        "          d1 = 0\n",
        "          if(mm_0 == mm_1):\n",
        "            if(nn_0 == 0 or nn_1 == 0):\n",
        "              if(nn_0 == 0):\n",
        "                nn_0 = 4\n",
        "                P.append([Ma_Tran[mm_0][nn_0],Ma_Tran[mm_1][nn_1 - 1]])\n",
        "              else:\n",
        "                nn_1 = 4\n",
        "                P.append([Ma_Tran[mm_0][nn_0 - 1],Ma_Tran[mm_1][nn_1]])\n",
        "              \n",
        "            else:\n",
        "              P.append([Ma_Tran[mm_0][nn_0 - 1],Ma_Tran[mm_1][nn_1 - 1]])\n",
        "          elif(nn_0 == nn_1):\n",
        "            if(mm_0 == 0 or mm_1 == 0):\n",
        "              if(mm_0 == 0):\n",
        "                mm_0 = 4\n",
        "                P.append([Ma_Tran[mm_0][nn_0],Ma_Tran[mm_1 - 1][nn_1]])\n",
        "              else:\n",
        "                mm_1 = 4\n",
        "                P.append([Ma_Tran[mm_0 - 1][nn_0],Ma_Tran[mm_1][nn_1]])\n",
        "              \n",
        "            else:\n",
        "              P.append([Ma_Tran[mm_0 - 1][nn_0],Ma_Tran[mm_1 - 1][nn_1]])\n",
        "          else:\n",
        "            P.append([Ma_Tran[mm_0][nn_1],Ma_Tran[mm_1][nn_0]])\n",
        "  PP = \"\"\n",
        "\n",
        "  for i in range(0,len(P)):\n",
        "    for j in range(0,len(P[i])):\n",
        "      if(P[i][j] != 'X'):\n",
        "        PP += chr(ord(P[i][j]))\n",
        "\n",
        "  return PP\n",
        "giaima_playfair(K,CC)"
      ],
      "metadata": {
        "colab": {
          "base_uri": "https://localhost:8080/",
          "height": 53
        },
        "id": "Gd4y06yX_kmO",
        "outputId": "12e45f27-03cc-40de-8875-eb6eed7db94e"
      },
      "execution_count": null,
      "outputs": [
        {
          "output_type": "stream",
          "name": "stdout",
          "text": [
            "[['T', 'H', 'E', 'D', 'I'], ['S', 'A', 'B', 'C', 'F'], ['G', 'K', 'L', 'M', 'N'], ['O', 'P', 'Q', 'R', 'U'], ['V', 'W', 'X', 'Y', 'Z']]\n"
          ]
        },
        {
          "output_type": "execute_result",
          "data": {
            "text/plain": [
              "'HELLOONEANDALL'"
            ],
            "application/vnd.google.colaboratory.intrinsic+json": {
              "type": "string"
            }
          },
          "metadata": {},
          "execution_count": 54
        }
      ]
    },
    {
      "cell_type": "markdown",
      "source": [
        "Hệ Mã Hill"
      ],
      "metadata": {
        "id": "zQdhwNZ32HMt"
      }
    },
    {
      "cell_type": "markdown",
      "source": [
        "Mã Hoá Hill"
      ],
      "metadata": {
        "id": "hg6ZVRv62Rjs"
      }
    },
    {
      "cell_type": "code",
      "source": [
        "import numpy as np"
      ],
      "metadata": {
        "id": "6NuGGmp_4IQ4"
      },
      "execution_count": null,
      "outputs": []
    },
    {
      "cell_type": "code",
      "source": [
        "K = np.array([[1, 2 ,3],[0, 1, 4],[0, 0, -1]])\n",
        "# print(np.linalg.inv(A))\n",
        "P = \"paymoremoney\"\n",
        "# print(P)\n",
        "def mahoa_hill(K,P):\n",
        "  Z_26 = \"ABCDEFGHIJKLMNOPQRSTUVWXYZ\"\n",
        "  P = P.upper()\n",
        "  m = len(K)\n",
        "  PP = []\n",
        "  PP.append([])\n",
        "  count = 0;\n",
        "  d = 0\n",
        "  for i in range(0,len(P)):\n",
        "    for j in range(0,len(Z_26)):\n",
        "      if(P[i] == Z_26[j]):\n",
        "        PP[d].append(j)\n",
        "    count = count + 1\n",
        "    if(count == 3 and i < len(P)-1):\n",
        "      PP.append([])\n",
        "      d = d + 1\n",
        "      count = 0 \n",
        "  # print(PP)\n",
        "\n",
        "  C = []\n",
        "  for i in range(0,len(PP)):\n",
        "    P_array = []\n",
        "    P_array.append([])\n",
        "    P_array[0].extend(PP[i])\n",
        "    P_array = np.array(P_array)\n",
        "    P_array = P_array.T\n",
        "     \n",
        "    C.append(((K.dot(P_array))%26).T)\n",
        "  CC = []\n",
        "  for i in range(0,len(C)):\n",
        "    CC.append([])\n",
        "    for j in range(0,len(C[i])):\n",
        "      CC[i].extend(C[i][j])\n",
        "  # print(CC)\n",
        "  for i in range(0,len(CC)):\n",
        "    for j in range(0,len(CC[i])):\n",
        "      for k in range(0,len(Z_26)):\n",
        "        if(CC[i][j] == k):\n",
        "          CC[i][j] = Z_26[k]\n",
        "  return CC \n",
        " \n",
        "mahoa_hill(K,P)"
      ],
      "metadata": {
        "colab": {
          "base_uri": "https://localhost:8080/"
        },
        "id": "pRv9p5zL8udZ",
        "outputId": "f3fe18ba-aeb0-4f16-95cf-093e3fba79ed"
      },
      "execution_count": 425,
      "outputs": [
        {
          "output_type": "execute_result",
          "data": {
            "text/plain": [
              "[['J', 'S', 'C'], ['N', 'E', 'J'], ['S', 'Q', 'M'], ['P', 'W', 'C']]"
            ]
          },
          "metadata": {},
          "execution_count": 425
        }
      ]
    },
    {
      "cell_type": "markdown",
      "source": [
        "Giải MÃ Hill"
      ],
      "metadata": {
        "id": "OsnNWyI_S3Kz"
      }
    },
    {
      "cell_type": "code",
      "source": [
        "import numpy as np\n",
        "def detMaTran(A):\n",
        " \n",
        "  det = 0\n",
        "  if(len(A)==2):\n",
        "    \n",
        "    det = A[0][0]*A[1][1] - A[0][1]*A[1][0]\n",
        "    \n",
        "  else:\n",
        "    \n",
        "    pp_A = []\n",
        "    for i in range(0,1):\n",
        "      for j in range(0,len(A[i])):\n",
        "        pp_A = []\n",
        "        d = 0\n",
        "        for m in range(1,len(A)):\n",
        "          if(m != 0):\n",
        "            pp_A.append([])\n",
        "\n",
        "            for n in range(0,len(A[m])):\n",
        "\n",
        "              if(n != j):\n",
        "                pp_A[d].append(A[m][n])   \n",
        "                \n",
        "                \n",
        "            d = d + 1\n",
        "        detpp_A = detMaTran(pp_A)\n",
        "        det += detpp_A * A[i][j] * ((-1)**(i+j))\n",
        "\n",
        "  return det\n",
        "\n",
        "# K = np.array([[1, 2 ,3],[0, 1, 4],[0, 0, -1]])\n",
        "# detMaTran(K)"
      ],
      "metadata": {
        "id": "0VTYQdRL4s8v"
      },
      "execution_count": 426,
      "outputs": []
    },
    {
      "cell_type": "code",
      "source": [
        "\n",
        "import numpy as np\n",
        "\n",
        "def MaTranNghichDao(A):\n",
        "   \n",
        "  detA = detMaTran(A)\n",
        "  PA  = []\n",
        "  p_A = []\n",
        "  for i in range(0,len(A)):\n",
        "    p_A.append([])\n",
        "    for j in range(0,len(A)):\n",
        "      p_A[i].append(\"0\")\n",
        "\n",
        "  for i in range(0,len(A)):\n",
        "    for j in range(0,len(A)):\n",
        "      pp_A = []\n",
        "      d = 0\n",
        "      for m in range(0,len(A)):\n",
        "        \n",
        "        if(m != i):   \n",
        "          pp_A.append([])\n",
        "        \n",
        "          for n in range(0,len(A)):\n",
        "            \n",
        "            if(n != j):\n",
        "              \n",
        "              # charm = str(m)\n",
        "              # charn = str(n)\n",
        "              # charA = str(A[m][n])\n",
        "              # print(\"A[\" +charm+ \"]\" + \"[\" +charn+ \"] = \" + charA)\n",
        "              pp_A[d].append((A[m][n]))\n",
        "            \n",
        "          d = d + 1\n",
        "       \n",
        "      detppp_A = 0\n",
        "      detppp_A = detMaTran(pp_A)\n",
        "      detppp_A = ((detppp_A * (-1)**(i+j))/detA)\n",
        "      # detppp_A = int(detppp_A * detA)\n",
        "      \n",
        "     \n",
        "      p_A[i][j] = detppp_A\n",
        "\n",
        "      PA = np.array(p_A)\n",
        "      \n",
        "      PA = PA.T\n",
        "     \n",
        "      # print(PA)\n",
        "      # print(pp_A)\n",
        "      # print(detppp_A)\n",
        "      \n",
        "      \n",
        "  return PA\n",
        "      \n",
        "MaTranNghichDao(K)\n",
        "print(K.dot(MaTranNghichDao(K)))"
      ],
      "metadata": {
        "colab": {
          "base_uri": "https://localhost:8080/"
        },
        "id": "TjohQV0OZB82",
        "outputId": "ba684cb4-b4ca-4133-966f-9adb34f1b0e6"
      },
      "execution_count": 427,
      "outputs": [
        {
          "output_type": "stream",
          "name": "stdout",
          "text": [
            "[[1. 0. 0.]\n",
            " [0. 1. 0.]\n",
            " [0. 0. 1.]]\n"
          ]
        }
      ]
    },
    {
      "cell_type": "code",
      "source": [
        "C = mahoa_hill(K,P)\n",
        "\n",
        "print(C)"
      ],
      "metadata": {
        "colab": {
          "base_uri": "https://localhost:8080/"
        },
        "id": "UPik5E6hihV3",
        "outputId": "5b03724e-758e-4595-cae6-13d9c45a3035"
      },
      "execution_count": 428,
      "outputs": [
        {
          "output_type": "stream",
          "name": "stdout",
          "text": [
            "[['J', 'S', 'C'], ['N', 'E', 'J'], ['S', 'Q', 'M'], ['P', 'W', 'C']]\n"
          ]
        }
      ]
    },
    {
      "cell_type": "code",
      "source": [
        "import numpy as np\n",
        "C = mahoa_hill(K,P)\n",
        "\n",
        "def giaima_hill(K,C):\n",
        "  \n",
        "  Z_26 = \"ABCDEFGHIJKLMNOPQRSTUVWXYZ\"\n",
        "  ZZ_26 = []\n",
        "  for i in range(0,len(Z_26)):\n",
        "    ZZ_26.append(Z_26[i])\n",
        "  K_1 = MaTranNghichDao(K)\n",
        "  # print(K_1)\n",
        "  CC = []\n",
        "  for i in range(0,len(C)):\n",
        "    CC.extend(C[i])\n",
        "  # print(CC)\n",
        "\n",
        "  for i in range(0,len(CC)):\n",
        "    for m in range(0,len(ZZ_26)):\n",
        "      if(CC[i] == ZZ_26[m]):\n",
        "        CC[i] = m\n",
        "  # print(CC)\n",
        "  CCC = []\n",
        "  CCC.append([])\n",
        "  count = 0\n",
        "  d = 0\n",
        "  for i in range(0,len(CC)):  \n",
        "    CCC[d].append(CC[i])\n",
        "    count = count + 1\n",
        "    if(count == len(K) and i < len(CC) -1 ):\n",
        "      CCC.append([])\n",
        "      d = d + 1\n",
        "      count = 0\n",
        "  # print(CCC)\n",
        "  B = []\n",
        "  for i in range(0,len(CCC)):\n",
        "    CCC_array = []\n",
        "    CCC_array.append([])\n",
        "    CCC_array[0].extend(CCC[i])\n",
        "    CCC_array = np.array(CCC_array)\n",
        "    CCC_array = CCC_array.T\n",
        "    \n",
        "    B.append(((K_1.dot(CCC_array))%26).T)\n",
        "  # print(B)\n",
        "  BB = []\n",
        "  for i in range(0,len(B)):\n",
        "    BB.append([])\n",
        "    for j in range(0,len(B[i])):\n",
        "      BB[i].extend(B[i][j])\n",
        "  # print(BB)\n",
        "  chuoiBB = \"\"\n",
        "  for i in range(0,len(BB)):\n",
        "    for j in range(0,len(BB[i])):\n",
        "      for k in range(0,len(Z_26)):\n",
        "        if(BB[i][j] == k):\n",
        "          BB[i][j] = Z_26[k]\n",
        "          chuoiBB += Z_26[k]\n",
        "  chuoiBB = chuoiBB.lower()\n",
        "  \n",
        "  \n",
        "  return chuoiBB\n",
        "\n",
        "giaima_hill(K,C)"
      ],
      "metadata": {
        "colab": {
          "base_uri": "https://localhost:8080/",
          "height": 35
        },
        "id": "3FW1-8h-S7HG",
        "outputId": "4a9648d9-8bbd-4813-bd56-4f7249d9fbf3"
      },
      "execution_count": 435,
      "outputs": [
        {
          "output_type": "execute_result",
          "data": {
            "text/plain": [
              "'paymoremoney'"
            ],
            "application/vnd.google.colaboratory.intrinsic+json": {
              "type": "string"
            }
          },
          "metadata": {},
          "execution_count": 435
        }
      ]
    },
    {
      "cell_type": "markdown",
      "source": [
        "hệ mã vigenere"
      ],
      "metadata": {
        "id": "Pk2QgCHM3SbP"
      }
    },
    {
      "cell_type": "markdown",
      "source": [
        "mã hoá vigenere"
      ],
      "metadata": {
        "id": "qRchQ9wf3ZT6"
      }
    },
    {
      "cell_type": "code",
      "source": [
        "K = \"deceptive\"\n",
        "P = \"wearediscoveredsaveyourself\"\n",
        "def mahoa_vigenere(K,P):\n",
        "  if(len(K) < len(P)):\n",
        "    Z_26 = \"ABCDEFGHIJKLMNOPQRSTUVWXYZ\"\n",
        "   \n",
        "    KK = K.upper()\n",
        "    P = P.upper()\n",
        "    count = len(P) - len(K)\n",
        "    count_k = 0\n",
        "    for i in range(0,count):\n",
        "      if(count_k == len(K)):\n",
        "        count_k = 0\n",
        "      KK += KK[count_k]\n",
        "      count_k = count_k + 1\n",
        "    \n",
        "    C = \"\"\n",
        "    for i in range(0,len(P)):\n",
        "      index = (ord(KK[i]) + ord(P[i]))%26\n",
        "      for j in range(0,len(Z_26)):\n",
        "        if(index == j):\n",
        "          C += Z_26[j]\n",
        "    \n",
        "    return C\n",
        " \n",
        "mahoa_vigenere(K,P)"
      ],
      "metadata": {
        "colab": {
          "base_uri": "https://localhost:8080/",
          "height": 35
        },
        "id": "gT_5wdTi5zPN",
        "outputId": "db2fa7b5-6f7a-497b-a6d6-c6e2569b5b47"
      },
      "execution_count": 479,
      "outputs": [
        {
          "output_type": "execute_result",
          "data": {
            "text/plain": [
              "'ZICVTWQNGRZGVTWAVZHCQYGLMGJ'"
            ],
            "application/vnd.google.colaboratory.intrinsic+json": {
              "type": "string"
            }
          },
          "metadata": {},
          "execution_count": 479
        }
      ]
    },
    {
      "cell_type": "markdown",
      "source": [
        "GIẢI MÃ VIGENERE"
      ],
      "metadata": {
        "id": "bFFPVdQB_qDU"
      }
    },
    {
      "cell_type": "code",
      "source": [
        "\n",
        "C = mahoa_vigenere(K,P)\n",
        "print(C)\n",
        "print(len(C))"
      ],
      "metadata": {
        "colab": {
          "base_uri": "https://localhost:8080/"
        },
        "id": "0LdpdWOu_0-Q",
        "outputId": "53c75a4e-8ff9-4b13-dad0-bb72211b4ae4"
      },
      "execution_count": 481,
      "outputs": [
        {
          "output_type": "stream",
          "name": "stdout",
          "text": [
            "ZICVTWQNGRZGVTWAVZHCQYGLMGJ\n",
            "27\n"
          ]
        }
      ]
    },
    {
      "cell_type": "code",
      "source": [
        "def giaima_vigenere(K,C):\n",
        "  if(len(K) < len(C)):\n",
        "    Z_26 = \"ABCDEFGHIJKLMNOPQRSTUVWXYZ\"\n",
        "    \n",
        "    KK = K.upper()\n",
        "    count = len(C) - len(K)\n",
        "    count_k = 0\n",
        "    for i in range(0,count):\n",
        "      if(count_k == len(K)):\n",
        "        count_k = 0\n",
        "      KK += KK[count_k]\n",
        "      count_k = count_k + 1\n",
        "    \n",
        "    P = \"\"\n",
        "    # print(KK)\n",
        "    # print(C)\n",
        "    for i in range(0,len(C)):\n",
        "      index = (ord(C[i]) - ord(KK[i]))%26\n",
        "      for j in range(0,len(Z_26)):\n",
        "        if(index == j):\n",
        "          P += Z_26[j]\n",
        "    P = P.lower()\n",
        "    return P\n",
        "giaima_vigenere(K,C)"
      ],
      "metadata": {
        "colab": {
          "base_uri": "https://localhost:8080/",
          "height": 70
        },
        "id": "RGEx4bQJ_tYb",
        "outputId": "e5805092-ef82-486a-8226-ef75e157e6e3"
      },
      "execution_count": 533,
      "outputs": [
        {
          "output_type": "stream",
          "name": "stdout",
          "text": [
            "DECEPTIVEDECEPTIVEDECEPTIVE\n",
            "ZICVTWQNGRZGVTWAVZHCQYGLMGJ\n"
          ]
        },
        {
          "output_type": "execute_result",
          "data": {
            "text/plain": [
              "'wearediscoveredsaveyourself'"
            ],
            "application/vnd.google.colaboratory.intrinsic+json": {
              "type": "string"
            }
          },
          "metadata": {},
          "execution_count": 533
        }
      ]
    },
    {
      "cell_type": "code",
      "source": [
        "print(ord('Z'))\n",
        "print(ord('D'))\n",
        "print(22%26)"
      ],
      "metadata": {
        "colab": {
          "base_uri": "https://localhost:8080/"
        },
        "id": "7FV6qgP9Kj1H",
        "outputId": "57d9fc35-52d7-4b84-f6dd-0627ea4990e1"
      },
      "execution_count": 535,
      "outputs": [
        {
          "output_type": "stream",
          "name": "stdout",
          "text": [
            "90\n",
            "68\n",
            "22\n"
          ]
        }
      ]
    },
    {
      "cell_type": "code",
      "source": [
        "m = int(input())\n",
        "n = int(input())\n",
        "mt=[]\n",
        "def NhapMaTran():\n",
        "    for i in range(0,m):\n",
        "        mt.append([])\n",
        "        print(mt)\n",
        "        for j in range(0,n):\n",
        "            print (\"Phan tu hang\",i,\"cot\",j)\n",
        "            pt=int(input())\n",
        "            mt[i].append(pt)\n",
        "NhapMaTran()\n",
        "A = np.array(mt)\n",
        "\n",
        "print(A)\n",
        "print(mt)\n",
        "print(A - A)"
      ],
      "metadata": {
        "colab": {
          "base_uri": "https://localhost:8080/"
        },
        "id": "O0yQf8ue5w3N",
        "outputId": "075ead27-ccb2-42dd-e7f6-29ee9c57c2e1"
      },
      "execution_count": null,
      "outputs": [
        {
          "output_type": "stream",
          "name": "stdout",
          "text": [
            "2\n",
            "2\n",
            "[[]]\n",
            "Phan tu hang 0 cot 0\n",
            "1\n",
            "Phan tu hang 0 cot 1\n",
            "2\n",
            "[[1, 2], []]\n",
            "Phan tu hang 1 cot 0\n",
            "3\n",
            "Phan tu hang 1 cot 1\n",
            "4\n",
            "[[1 2]\n",
            " [3 4]]\n",
            "[[1, 2], [3, 4]]\n",
            "[[0 0]\n",
            " [0 0]]\n"
          ]
        }
      ]
    }
  ]
}