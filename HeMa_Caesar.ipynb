{
  "nbformat": 4,
  "nbformat_minor": 0,
  "metadata": {
    "colab": {
      "provenance": [],
      "collapsed_sections": []
    },
    "kernelspec": {
      "name": "python3",
      "display_name": "Python 3"
    },
    "language_info": {
      "name": "python"
    }
  },
  "cells": [
    {
      "cell_type": "markdown",
      "source": [
        "MÃ Hóa Caesar"
      ],
      "metadata": {
        "id": "jxY8mzhud1s3"
      }
    },
    {
      "cell_type": "code",
      "source": [
        "def encrypt(plaintext, k):\n",
        "    result = \"\"\n",
        "    #duyệt chuỗichuỗi\n",
        "    for i in range(len(plaintext)):\n",
        "        char = plaintext[i]\n",
        "         #mã hóa các ký tự viết hoa\n",
        "        if(char.isupper()):\n",
        "            result += chr((ord(char) + k-65) % 26 +65)\n",
        "        #mã hóa các ký tự viết thường\n",
        "        else:\n",
        "            result += chr((ord(char) + k - 97) % 26 + 97)\n",
        "    return result"
      ],
      "metadata": {
        "id": "eeuERFzQd2bf"
      },
      "execution_count": 1,
      "outputs": []
    },
    {
      "cell_type": "code",
      "source": [
        "plaintext = \"wemeettomorrow\"\n",
        "k =12\n",
        "ciphertext = encrypt(plaintext,k);\n",
        "print(\"Ciphertext: \" + ciphertext );"
      ],
      "metadata": {
        "colab": {
          "base_uri": "https://localhost:8080/"
        },
        "id": "B5OGjSU2d7Nn",
        "outputId": "06a98851-e4e1-43d3-b874-ce642c64bcb8"
      },
      "execution_count": 2,
      "outputs": [
        {
          "output_type": "stream",
          "name": "stdout",
          "text": [
            "Ciphertext: iqyqqffayaddai\n"
          ]
        }
      ]
    },
    {
      "cell_type": "markdown",
      "source": [
        "GIẢI MÃ Caesar"
      ],
      "metadata": {
        "id": "9jhlSB-xeBdP"
      }
    },
    {
      "cell_type": "code",
      "source": [
        "def decrypt(ciphertext,k):\n",
        "    result = \"\"\n",
        "\n",
        "    for i in range(len(ciphertext)):\n",
        "        char = ciphertext[i]\n",
        "          # giải mã các ký tự viết hoa\n",
        "        if(char.isupper()):\n",
        "            result += chr((ord(char) - k-65) % 26 +65)\n",
        "      # giải mã các ký tự viết thường\n",
        "        else:\n",
        "            result += chr((ord(char) - k - 97) % 26 + 97)\n",
        "    return result\n",
        "\n",
        "k=12\n",
        "print(\"Plaintext: \" + decrypt(ciphertext,k));"
      ],
      "metadata": {
        "colab": {
          "base_uri": "https://localhost:8080/"
        },
        "id": "tPe2vzIOeCC3",
        "outputId": "d8d833fe-9bc5-4b0d-ef9c-b72150a0d582"
      },
      "execution_count": 3,
      "outputs": [
        {
          "output_type": "stream",
          "name": "stdout",
          "text": [
            "Plaintext: wemeettomorrow\n"
          ]
        }
      ]
    },
    {
      "cell_type": "markdown",
      "source": [
        "Tấn Công Hệ mã Caesar"
      ],
      "metadata": {
        "id": "5RAl4Gp1eHWQ"
      }
    },
    {
      "cell_type": "code",
      "source": [
        "ciphertext = input('Type ciphertext:')\n",
        "for k in range(0,26):\n",
        "    plaintext = decrypt(ciphertext,k)\n",
        "    print(\"For key = \", k, \"plaintext=\"+plaintext.lower())\n",
        "#K=24 welcometophenikaa"
      ],
      "metadata": {
        "colab": {
          "base_uri": "https://localhost:8080/"
        },
        "id": "t4cQOUXyeH6H",
        "outputId": "2370f336-d0c4-4708-e90a-6e99b9df5608"
      },
      "execution_count": 6,
      "outputs": [
        {
          "output_type": "stream",
          "name": "stdout",
          "text": [
            "Type ciphertext:wemeettomorrow\n",
            "For key =  0 plaintext=wemeettomorrow\n",
            "For key =  1 plaintext=vdlddssnlnqqnv\n",
            "For key =  2 plaintext=uckccrrmkmppmu\n",
            "For key =  3 plaintext=tbjbbqqljloolt\n",
            "For key =  4 plaintext=saiaappkiknnks\n",
            "For key =  5 plaintext=rzhzzoojhjmmjr\n",
            "For key =  6 plaintext=qygyynnigilliq\n",
            "For key =  7 plaintext=pxfxxmmhfhkkhp\n",
            "For key =  8 plaintext=owewwllgegjjgo\n",
            "For key =  9 plaintext=nvdvvkkfdfiifn\n",
            "For key =  10 plaintext=mucuujjecehhem\n",
            "For key =  11 plaintext=ltbttiidbdggdl\n",
            "For key =  12 plaintext=ksasshhcacffck\n",
            "For key =  13 plaintext=jrzrrggbzbeebj\n",
            "For key =  14 plaintext=iqyqqffayaddai\n",
            "For key =  15 plaintext=hpxppeezxzcczh\n",
            "For key =  16 plaintext=gowooddywybbyg\n",
            "For key =  17 plaintext=fnvnnccxvxaaxf\n",
            "For key =  18 plaintext=emummbbwuwzzwe\n",
            "For key =  19 plaintext=dltllaavtvyyvd\n",
            "For key =  20 plaintext=ckskkzzusuxxuc\n",
            "For key =  21 plaintext=bjrjjyytrtwwtb\n",
            "For key =  22 plaintext=aiqiixxsqsvvsa\n",
            "For key =  23 plaintext=zhphhwwrpruurz\n",
            "For key =  24 plaintext=ygoggvvqoqttqy\n",
            "For key =  25 plaintext=xfnffuupnpsspx\n"
          ]
        }
      ]
    }
  ]
}