{
  "nbformat": 4,
  "nbformat_minor": 0,
  "metadata": {
    "colab": {
      "provenance": [],
      "collapsed_sections": []
    },
    "kernelspec": {
      "name": "python3",
      "display_name": "Python 3"
    },
    "language_info": {
      "name": "python"
    }
  },
  "cells": [
    {
      "cell_type": "markdown",
      "source": [
        "MÃ Hóa Caesar"
      ],
      "metadata": {
        "id": "L2WLgChf5KR6"
      }
    },
    {
      "cell_type": "code",
      "source": [
        "def encrypt(plaintext, k):\n",
        "    result = \"\"\n",
        "    #duyệt chuỗichuỗi\n",
        "    for i in range(len(plaintext)):\n",
        "        char = plaintext[i]\n",
        "         #mã hóa các ký tự viết hoa\n",
        "        if(char.isupper()):\n",
        "            result += chr((ord(char) + k-65) % 26 +65)\n",
        "        #mã hóa các ký tự viết thường\n",
        "        else:\n",
        "            result += chr((ord(char) + k - 97) % 26 + 97)\n",
        "    return result"
      ],
      "metadata": {
        "id": "PR5TMPzK5MhA"
      },
      "execution_count": null,
      "outputs": []
    },
    {
      "cell_type": "code",
      "source": [
        "plaintext = \"wemeettomorrow\"\n",
        "k =12\n",
        "ciphertext = encrypt(plaintext,k);\n",
        "print(\"Ciphertext: \" + ciphertext );\n"
      ],
      "metadata": {
        "colab": {
          "base_uri": "https://localhost:8080/"
        },
        "id": "0WNfHN580-zB",
        "outputId": "39593006-5cb3-4d48-9127-31a0bcd1dd03"
      },
      "execution_count": 5,
      "outputs": [
        {
          "output_type": "stream",
          "name": "stdout",
          "text": [
            "Ciphertext: iqyqqffayaddai\n"
          ]
        }
      ]
    },
    {
      "cell_type": "markdown",
      "source": [
        "GIẢI MÃ Caesar\n"
      ],
      "metadata": {
        "id": "slHkQNyl5YSY"
      }
    },
    {
      "cell_type": "code",
      "execution_count": 8,
      "metadata": {
        "colab": {
          "base_uri": "https://localhost:8080/"
        },
        "id": "9tLR7s4o1yKe",
        "outputId": "53afdc07-be07-402a-c705-4baf965889d4"
      },
      "outputs": [
        {
          "output_type": "stream",
          "name": "stdout",
          "text": [
            "Plaintext: wemeettomorrow\n"
          ]
        }
      ],
      "source": [
        "def decrypt(ciphertext,k):\n",
        "    result = \"\"\n",
        "\n",
        "    for i in range(len(ciphertext)):\n",
        "        char = ciphertext[i]\n",
        "          # giải mã các ký tự viết hoa\n",
        "        if(char.isupper()):\n",
        "            result += chr((ord(char) - k-65) % 26 +65)\n",
        "      # giải mã các ký tự viết thường\n",
        "        else:\n",
        "            result += chr((ord(char) - k - 97) % 26 + 97)\n",
        "    return result\n",
        "\n",
        "k=12\n",
        "print(\"Plaintext: \" + decrypt(ciphertext,k));"
      ]
    },
    {
      "cell_type": "markdown",
      "source": [
        "Tấn Công Hệ mã Caesar\n"
      ],
      "metadata": {
        "id": "uuJXlj6s5iMw"
      }
    },
    {
      "cell_type": "code",
      "source": [
        "ciphertext = input('Type ciphertext:')\n",
        "for k in range(0,26):\n",
        "    plaintext = decrypt(ciphertext,k)\n",
        "    print(\"For key = \", k, \"plaintext=\"+plaintext.lower())\n",
        "#K=24 welcometophenikaa\n"
      ],
      "metadata": {
        "colab": {
          "base_uri": "https://localhost:8080/"
        },
        "id": "bven86zD5pmx",
        "outputId": "08d9a6d9-b544-4d27-a192-f7bf76e0ec26"
      },
      "execution_count": 10,
      "outputs": [
        {
          "output_type": "stream",
          "name": "stdout",
          "text": [
            "Type ciphertext:UCJAMKCRMNFCLGIYY\n",
            "For key =  0 plaintext=ucjamkcrmnfclgiyy\n",
            "For key =  1 plaintext=tbizljbqlmebkfhxx\n",
            "For key =  2 plaintext=sahykiapkldajegww\n",
            "For key =  3 plaintext=rzgxjhzojkczidfvv\n",
            "For key =  4 plaintext=qyfwigynijbyhceuu\n",
            "For key =  5 plaintext=pxevhfxmhiaxgbdtt\n",
            "For key =  6 plaintext=owdugewlghzwfacss\n",
            "For key =  7 plaintext=nvctfdvkfgyvezbrr\n",
            "For key =  8 plaintext=mubsecujefxudyaqq\n",
            "For key =  9 plaintext=ltardbtidewtcxzpp\n",
            "For key =  10 plaintext=kszqcashcdvsbwyoo\n",
            "For key =  11 plaintext=jrypbzrgbcuravxnn\n",
            "For key =  12 plaintext=iqxoayqfabtqzuwmm\n",
            "For key =  13 plaintext=hpwnzxpezaspytvll\n",
            "For key =  14 plaintext=govmywodyzroxsukk\n",
            "For key =  15 plaintext=fnulxvncxyqnwrtjj\n",
            "For key =  16 plaintext=emtkwumbwxpmvqsii\n",
            "For key =  17 plaintext=dlsjvtlavwoluprhh\n",
            "For key =  18 plaintext=ckriuskzuvnktoqgg\n",
            "For key =  19 plaintext=bjqhtrjytumjsnpff\n",
            "For key =  20 plaintext=aipgsqixstlirmoee\n",
            "For key =  21 plaintext=zhofrphwrskhqlndd\n",
            "For key =  22 plaintext=ygneqogvqrjgpkmcc\n",
            "For key =  23 plaintext=xfmdpnfupqifojlbb\n",
            "For key =  24 plaintext=welcometophenikaa\n",
            "For key =  25 plaintext=vdkbnldsnogdmhjzz\n"
          ]
        }
      ]
    },
    {
      "cell_type": "markdown",
      "source": [
        "HỆ MÃ Playfair\n"
      ],
      "metadata": {
        "id": "uZ9UQ84c7Uda"
      }
    },
    {
      "cell_type": "markdown",
      "source": [
        "mã hóa playfai"
      ],
      "metadata": {
        "id": "KJkhC-5B-XsK"
      }
    },
    {
      "cell_type": "code",
      "source": [
        "playtext = \"HELLOONEANDAHELL\";\n",
        "K = \"THEDIEIS\";\n",
        "def key_matrix(key){\n",
        "    \n",
        "}"
      ],
      "metadata": {
        "id": "CFYK3LgT-cKr"
      },
      "execution_count": null,
      "outputs": []
    }
  ]
}